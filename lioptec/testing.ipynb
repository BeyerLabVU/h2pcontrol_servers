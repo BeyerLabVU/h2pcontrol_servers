{
 "cells": [
  {
   "cell_type": "code",
   "execution_count": 1,
   "id": "19c2b427-9b95-41f5-a089-28dc7f76506a",
   "metadata": {},
   "outputs": [],
   "source": [
    "import re\n",
    "import time\n",
    "import socket\n",
    "\n",
    "HOST = '127.0.0.1'\n",
    "PORT = 65510"
   ]
  },
  {
   "cell_type": "code",
   "execution_count": 2,
   "id": "4ac97c6a-5cd9-46fd-a111-c725c6d3196f",
   "metadata": {},
   "outputs": [
    {
     "name": "stdout",
     "output_type": "stream",
     "text": [
      "b'OK: Remote connection has been successfully established.\\r\\n'\n"
     ]
    }
   ],
   "source": [
    "s = socket.socket(socket.AF_INET, socket.SOCK_STREAM)\n",
    "s.connect((HOST, PORT))\n",
    "s.sendall(b\"RemoteConnect\\r\\n\")\n",
    "data = s.recv(1024)\n",
    "print(data)"
   ]
  },
  {
   "cell_type": "code",
   "execution_count": 3,
   "id": "abe14cac-62a5-4827-8a0d-359ecd483e29",
   "metadata": {},
   "outputs": [
    {
     "name": "stdout",
     "output_type": "stream",
     "text": [
      "b'OK: Valid remote connection to 192.168.5.2 (DESKTOP-7VIE8N7).\\r\\n'\n"
     ]
    }
   ],
   "source": [
    "s.sendall(b\"GetRemoteStatus\\r\\n\")\n",
    "data = s.recv(1024)\n",
    "print(data)"
   ]
  },
  {
   "cell_type": "code",
   "execution_count": 5,
   "id": "bb4ef26c-b674-470f-96bb-22b52d142330",
   "metadata": {},
   "outputs": [
    {
     "name": "stdout",
     "output_type": "stream",
     "text": [
      "b'OK: Wavelength will be adjusted to 591.230000E+0 nm.\\r\\n'\n",
      "2072958\n",
      "Missed 1 reps.\n"
     ]
    }
   ],
   "source": [
    "wl = 591.23\n",
    "s.sendall(f\"SetWavelength {wl}\\r\\n\".encode())\n",
    "data = s.recv(1024)\n",
    "print(data)\n",
    "\n",
    "resonator = -2\n",
    "prev_resonator = -1\n",
    "missed_reps = 0\n",
    "while True:\n",
    "    # Poll the laser\n",
    "    s.sendall(b\"GetActualPosition\\r\\n\")\n",
    "    data = s.recv(1024)\n",
    "    match = re.search(r'Resonator: (\\d+)', data.decode())\n",
    "    if match:\n",
    "        resonator = int(match.group(1))\n",
    "        if resonator == prev_resonator:\n",
    "            break\n",
    "    \n",
    "    time.sleep(0.1)\n",
    "    missed_reps += 1\n",
    "    if resonator > 0:\n",
    "        print(resonator)\n",
    "        prev_resonator = resonator\n",
    "\n",
    "print(f\"Missed {missed_reps} reps.\")"
   ]
  },
  {
   "cell_type": "code",
   "execution_count": 13,
   "id": "f3722a54-216f-472b-85ee-78524cb7b6d2",
   "metadata": {},
   "outputs": [
    {
     "name": "stdout",
     "output_type": "stream",
     "text": [
      "b'OK: Remote access has been disconnected.\\r\\n'\n"
     ]
    }
   ],
   "source": [
    "s.sendall(b\"RemoteDisconnect\\r\\n\")\n",
    "data = s.recv(1024)\n",
    "print(data)"
   ]
  },
  {
   "cell_type": "code",
   "execution_count": null,
   "id": "7dc94340-7813-4b67-a764-2083baaa1c54",
   "metadata": {},
   "outputs": [],
   "source": []
  }
 ],
 "metadata": {
  "kernelspec": {
   "display_name": "Python 3 (ipykernel)",
   "language": "python",
   "name": "python3"
  },
  "language_info": {
   "codemirror_mode": {
    "name": "ipython",
    "version": 3
   },
   "file_extension": ".py",
   "mimetype": "text/x-python",
   "name": "python",
   "nbconvert_exporter": "python",
   "pygments_lexer": "ipython3",
   "version": "3.13.3"
  }
 },
 "nbformat": 4,
 "nbformat_minor": 5
}
